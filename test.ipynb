{
 "cells": [
  {
   "cell_type": "code",
   "execution_count": 62,
   "metadata": {},
   "outputs": [
    {
     "data": {
      "text/plain": [
       "{'protoCfg': {'@desc': '后端间通信',\n",
       "  'cfg': [{'@target': 'System',\n",
       "    '@up': 'C',\n",
       "    '@down': 'S',\n",
       "    '@resp_offset': '20000',\n",
       "    '@type': 'normal',\n",
       "    '@desc': '系统协议',\n",
       "    'proto': [{'@id': '10001',\n",
       "      '@name': 'HANDSHAKE',\n",
       "      '@req': 'pb.S2CHandShake',\n",
       "      '@resp': 'pb.C2SHandShake'},\n",
       "     {'@id': '10002', '@name': 'ECHO', '@req': 'pb.S2CEcho'}]},\n",
       "   {'@target': 'Server',\n",
       "    '@up': 'C',\n",
       "    '@down': 'S',\n",
       "    '@type': 'sync',\n",
       "    '@desc': '同步协议',\n",
       "    'proto': [{'@id': '50001',\n",
       "      '@name': 'SYNC_ERROR',\n",
       "      '@req': 'pb.C2SSyncError'},\n",
       "     {'@id': '50002',\n",
       "      '@name': 'SYNC_GAME_SERVER',\n",
       "      '@req': 'pb.C2SSyncGameServer'},\n",
       "     {'@id': '50003',\n",
       "      '@name': 'SYNC_ROOM_SERVER',\n",
       "      '@req': 'pb.C2SSyncRoomServer'},\n",
       "     {'@id': '50004',\n",
       "      '@name': 'SYNC_WORLD_SERVER',\n",
       "      '@req': 'pb.C2SSyncWorldServer'},\n",
       "     {'@id': '50005',\n",
       "      '@name': 'SYNC_FORWARD_MSG',\n",
       "      '@req': 'pb.C2SForwardMsg'}]}]}}"
      ]
     },
     "execution_count": 62,
     "metadata": {},
     "output_type": "execute_result"
    }
   ],
   "source": [
    "import xmltodict,easydict,math\n",
    "parse = {}\n",
    "with open(\"proto/msg_map/backend.xml\",'r') as f:\n",
    "    parse = easydict.EasyDict(xmltodict.parse(f.read()))\n",
    "parse"
   ]
  },
  {
   "cell_type": "code",
   "execution_count": 79,
   "metadata": {},
   "outputs": [],
   "source": [
    "\n",
    "## MsgID.lua\n",
    "cli_id_title=\"\"\"MsgID = {{\n",
    "\t{0}\n",
    "}}\n",
    "\"\"\"\n",
    "\n",
    "## MsgPB.lua\n",
    "cli_proto_title=\"\"\"require \"Assets/_LuaScripts/Game/Net/Proto/Importer\"\n",
    "\n",
    "local pb_scheme = {{\n",
    "\t{0}\n",
    "}}\n",
    "\n",
    "return pb_scheme\n",
    "\"\"\"\n",
    "\n",
    "## msg_name.go\n",
    "srv_msg_title = \"\"\"package msgid\n",
    "\n",
    "var Name = map[uint16]string{{\n",
    "\t{0}\n",
    "}}\n",
    "\"\"\"\n",
    "\n",
    "## *_msgproto.go\n",
    "srv_proto_title = \"\"\"package msgproto\n",
    "\n",
    "import (\n",
    "\t\"slotserver/common/msgid\"\n",
    "\t\"slotserver/common/pb\"\n",
    "\n",
    "\t\"google.golang.org/protobuf/reflect/protoreflect\"\n",
    ")\n",
    "\n",
    "var {protoName} = map[uint16]protoreflect.MessageType{{\n",
    "\t{proto}\n",
    "}}\n",
    "\"\"\"\n",
    "\n",
    "## *_msgid.go\n",
    "srv_id_title = \"\"\"package msgid\n",
    "\n",
    "const (\n",
    "\t{0}\n",
    ")\n",
    "\"\"\"\n",
    "\n",
    "fmt_name = \"{a}2{b}_{name}\"\n",
    "\n",
    "\n",
    "fmt_cli_id = \"{pname:{maxlen}s} = {pid},\"\n",
    "#fmt_cli_proto_name = '{pname}= \"{pname}\"'\n",
    "fmt_cli_proto = '[MsgID.{pname}] = \"{proto}\",'\n",
    "\n",
    "fmt_srv_id = \"{pname:{maxlen}s} = {pid}\"\n",
    "fmt_srv_proto_name = '{{{pname}:}:{maxlen}s} \"{pname}\"'\n",
    "fmt_srv_proto = \"msgid.{pname}: (&{proto}).ProtoReflect().Type(),\"\n"
   ]
  },
  {
   "cell_type": "code",
   "execution_count": 80,
   "metadata": {},
   "outputs": [
    {
     "ename": "ValueError",
     "evalue": "Single '}' encountered in format string",
     "output_type": "error",
     "traceback": [
      "\u001b[0;31m---------------------------------------------------------------------------\u001b[0m",
      "\u001b[0;31mValueError\u001b[0m                                Traceback (most recent call last)",
      "\u001b[1;32m/Users/wjy/Documents/project/SlotTools/test.ipynb Cell 3\u001b[0m in \u001b[0;36m4\n\u001b[1;32m     <a href='vscode-notebook-cell:/Users/wjy/Documents/project/SlotTools/test.ipynb#X21sZmlsZQ%3D%3D?line=38'>39</a>\u001b[0m sid \u001b[39m=\u001b[39m fmt_srv_id\u001b[39m.\u001b[39mformat( pname \u001b[39m=\u001b[39m pname, pid \u001b[39m=\u001b[39m \u001b[39mstr\u001b[39m(proto_id), maxlen \u001b[39m=\u001b[39m maxlen)\n\u001b[1;32m     <a href='vscode-notebook-cell:/Users/wjy/Documents/project/SlotTools/test.ipynb#X21sZmlsZQ%3D%3D?line=39'>40</a>\u001b[0m sproto \u001b[39m=\u001b[39m fmt_srv_proto\u001b[39m.\u001b[39mformat( pname \u001b[39m=\u001b[39m pname, proto \u001b[39m=\u001b[39m req, maxlen \u001b[39m=\u001b[39m maxlen)\n\u001b[0;32m---> <a href='vscode-notebook-cell:/Users/wjy/Documents/project/SlotTools/test.ipynb#X21sZmlsZQ%3D%3D?line=40'>41</a>\u001b[0m sprotoname \u001b[39m=\u001b[39m fmt_srv_proto_name\u001b[39m.\u001b[39;49mformat(pname \u001b[39m=\u001b[39;49m pname, maxlen \u001b[39m=\u001b[39;49m maxlen)\n\u001b[1;32m     <a href='vscode-notebook-cell:/Users/wjy/Documents/project/SlotTools/test.ipynb#X21sZmlsZQ%3D%3D?line=41'>42</a>\u001b[0m lcid\u001b[39m.\u001b[39mappend(cid)\n\u001b[1;32m     <a href='vscode-notebook-cell:/Users/wjy/Documents/project/SlotTools/test.ipynb#X21sZmlsZQ%3D%3D?line=42'>43</a>\u001b[0m lcproto\u001b[39m.\u001b[39mappend(cproto)\n",
      "\u001b[0;31mValueError\u001b[0m: Single '}' encountered in format string"
     ]
    }
   ],
   "source": [
    "maxlen = 0\n",
    "lcid = []\n",
    "lcproto = []\n",
    "lsid = []\n",
    "lsprotoname = []\n",
    "lsproto = []\n",
    "\n",
    "for cfg in parse.protoCfg.cfg:\n",
    "    up = cfg.get(\"@up\",'')\n",
    "    down = cfg.get(\"@down\",'')\n",
    "    resp_offset = int(cfg.get(\"@resp_offset\",0))\n",
    "    ctype = cfg.get(\"@type\",\"normal\")\n",
    "    for proto in cfg.proto:\n",
    "        proto_id = int(proto['@id'])\n",
    "        name = proto['@name']\n",
    "        req = proto.get('@req', None)\n",
    "        resp = proto.get('@resp', None)\n",
    "        if req:\n",
    "            pname = fmt_name.format( a = up, b = down, name = name)\n",
    "            maxlen = max(len(pname), maxlen)\n",
    "        if resp:\n",
    "            pname = fmt_name.format( a = down, b = up, name = name)\n",
    "            maxlen = max(len(pname), maxlen)\n",
    "\n",
    "for cfg in parse.protoCfg.cfg:\n",
    "    up = cfg.get(\"@up\",'')\n",
    "    down = cfg.get(\"@down\",'')\n",
    "    resp_offset = int(cfg.get(\"@resp_offset\",0))\n",
    "    ctype = cfg.get(\"@type\",\"normal\")\n",
    "    for proto in cfg.proto:\n",
    "        proto_id = int(proto['@id'])\n",
    "        name = proto['@name']\n",
    "        req = proto.get('@req', None)\n",
    "        resp = proto.get('@resp', None)\n",
    "        if req:\n",
    "            pname = fmt_name.format( a = up, b = down, name = name)\n",
    "            cid = fmt_cli_id.format( pname = pname, pid = str(proto_id), maxlen = maxlen)\n",
    "            cproto = fmt_cli_proto.format( pname = pname, proto = req, maxlen = maxlen)\n",
    "            sid = fmt_srv_id.format( pname = pname, pid = str(proto_id), maxlen = maxlen)\n",
    "            sproto = fmt_srv_proto.format( pname = pname, proto = req, maxlen = maxlen)\n",
    "            sprotoname = fmt_srv_proto_name.format(pname = pname, maxlen = maxlen)\n",
    "            lcid.append(cid)\n",
    "            lcproto.append(cproto)\n",
    "            lsid.append(sid)\n",
    "            lsproto.append(sproto)\n",
    "            lsprotoname.append(sprotoname)\n",
    "        if resp:\n",
    "            pname = fmt_name.format( a = down, b = up, name = name)\n",
    "            pid = str( proto_id + resp_offset )\n",
    "            cid = fmt_cli_id.format( pname = pname, pid = pid, maxlen = maxlen)\n",
    "            cproto = fmt_cli_proto.format( pname = pname, proto = req, maxlen = maxlen)\n",
    "            sid = fmt_srv_id.format( pname = pname, pid = pid, maxlen = maxlen)\n",
    "            sproto = fmt_srv_proto.format( pname = pname, proto = resp, maxlen = maxlen)\n",
    "            sprotoname = fmt_srv_proto_name.format(pname = pname, maxlen = maxlen)\n",
    "            lcid.append(cid)\n",
    "            lcproto.append(cproto)\n",
    "            lsid.append(sid)\n",
    "            lsproto.append(sproto)\n",
    "            lsprotoname.append(sprotoname)\n",
    "\n",
    "\n"
   ]
  },
  {
   "cell_type": "code",
   "execution_count": 78,
   "metadata": {},
   "outputs": [],
   "source": [
    "with open('msgid.go','w') as f:\n",
    "    f.write(srv_id_title.format(str.join('\\n\\t',lsid)))\n",
    "\n",
    "with open('msgproto.go','w') as f:\n",
    "    f.write(srv_proto_title.format(protoName=\"srv\", proto=str.join('\\n\\t',lsproto)))\n",
    "\n",
    "with open('MsgID.lua','w') as f:\n",
    "    f.write(cli_id_title.format(str.join('\\n\\t',lcid)))\n",
    "\n",
    "with open('MsgPB.lua','w') as f:\n",
    "    f.write(cli_proto_title.format(str.join('\\n\\t',lcproto)))\n"
   ]
  },
  {
   "cell_type": "code",
   "execution_count": 35,
   "metadata": {},
   "outputs": [
    {
     "ename": "SyntaxError",
     "evalue": "f-string expression part cannot include a backslash (523314557.py, line 2)",
     "output_type": "error",
     "traceback": [
      "\u001b[0;36m  Cell \u001b[0;32mIn [35], line 2\u001b[0;36m\u001b[0m\n\u001b[0;31m    f\"\\{\\{{aa}\\}\"\u001b[0m\n\u001b[0m                 ^\u001b[0m\n\u001b[0;31mSyntaxError\u001b[0m\u001b[0;31m:\u001b[0m f-string expression part cannot include a backslash\n"
     ]
    }
   ],
   "source": []
  }
 ],
 "metadata": {
  "kernelspec": {
   "display_name": "base",
   "language": "python",
   "name": "python3"
  },
  "language_info": {
   "codemirror_mode": {
    "name": "ipython",
    "version": 3
   },
   "file_extension": ".py",
   "mimetype": "text/x-python",
   "name": "python",
   "nbconvert_exporter": "python",
   "pygments_lexer": "ipython3",
   "version": "3.9.12"
  },
  "orig_nbformat": 4,
  "vscode": {
   "interpreter": {
    "hash": "13a1a071d98bf6f45b98dce4ec0c48943db42675bcfc58efca993f4a558cc42a"
   }
  }
 },
 "nbformat": 4,
 "nbformat_minor": 2
}
